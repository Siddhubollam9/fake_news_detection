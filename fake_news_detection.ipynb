{
  "nbformat": 4,
  "nbformat_minor": 0,
  "metadata": {
    "colab": {
      "provenance": [],
      "include_colab_link": true
    },
    "kernelspec": {
      "name": "python3",
      "display_name": "Python 3"
    },
    "language_info": {
      "name": "python"
    }
  },
  "cells": [
    {
      "cell_type": "markdown",
      "metadata": {
        "id": "view-in-github",
        "colab_type": "text"
      },
      "source": [
        "<a href=\"https://colab.research.google.com/github/Siddhubollam9/fake_news_detection/blob/main/fake_news_detection.ipynb\" target=\"_parent\"><img src=\"https://colab.research.google.com/assets/colab-badge.svg\" alt=\"Open In Colab\"/></a>"
      ]
    },
    {
      "cell_type": "markdown",
      "source": [
        "# 💡 Project Title\n",
        "\n",
        "Fake News Detection using Machine Learning\n",
        "\n",
        "# 🧭 DAY 1 — Setup & Dataset Understanding\n",
        "🎯 Goal\n",
        "\n",
        "Understand the task → Set up your environment → Load and explore the dataset.\n",
        "\n",
        "🧠 Concept Summary\n",
        "\n",
        "Fake news detection is a text classification problem.\n",
        "We’ll give a machine a news headline/article and ask it to classify:\n",
        "\n",
        "“Is this REAL or FAKE?”\n",
        "\n",
        "Machine Learning (ML) models don’t understand English words — they understand numbers.\n",
        "So our job is to convert text → numbers → train a classifier → get predictions."
      ],
      "metadata": {
        "id": "g8OkIKtgmdK3"
      }
    },
    {
      "cell_type": "code",
      "execution_count": null,
      "metadata": {
        "colab": {
          "base_uri": "https://localhost:8080/"
        },
        "id": "uR6XvkcNlDsu",
        "outputId": "8fcbb156-feec-4c40-959c-59eca340aca2"
      },
      "outputs": [
        {
          "output_type": "stream",
          "name": "stdout",
          "text": [
            "Requirement already satisfied: pandas in /usr/local/lib/python3.12/dist-packages (2.2.2)\n",
            "Requirement already satisfied: numpy in /usr/local/lib/python3.12/dist-packages (2.0.2)\n",
            "Requirement already satisfied: scikit-learn in /usr/local/lib/python3.12/dist-packages (1.6.1)\n",
            "Requirement already satisfied: nltk in /usr/local/lib/python3.12/dist-packages (3.9.1)\n",
            "Requirement already satisfied: matplotlib in /usr/local/lib/python3.12/dist-packages (3.10.0)\n",
            "Requirement already satisfied: seaborn in /usr/local/lib/python3.12/dist-packages (0.13.2)\n",
            "Requirement already satisfied: python-dateutil>=2.8.2 in /usr/local/lib/python3.12/dist-packages (from pandas) (2.9.0.post0)\n",
            "Requirement already satisfied: pytz>=2020.1 in /usr/local/lib/python3.12/dist-packages (from pandas) (2025.2)\n",
            "Requirement already satisfied: tzdata>=2022.7 in /usr/local/lib/python3.12/dist-packages (from pandas) (2025.2)\n",
            "Requirement already satisfied: scipy>=1.6.0 in /usr/local/lib/python3.12/dist-packages (from scikit-learn) (1.16.2)\n",
            "Requirement already satisfied: joblib>=1.2.0 in /usr/local/lib/python3.12/dist-packages (from scikit-learn) (1.5.2)\n",
            "Requirement already satisfied: threadpoolctl>=3.1.0 in /usr/local/lib/python3.12/dist-packages (from scikit-learn) (3.6.0)\n",
            "Requirement already satisfied: click in /usr/local/lib/python3.12/dist-packages (from nltk) (8.3.0)\n",
            "Requirement already satisfied: regex>=2021.8.3 in /usr/local/lib/python3.12/dist-packages (from nltk) (2024.11.6)\n",
            "Requirement already satisfied: tqdm in /usr/local/lib/python3.12/dist-packages (from nltk) (4.67.1)\n",
            "Requirement already satisfied: contourpy>=1.0.1 in /usr/local/lib/python3.12/dist-packages (from matplotlib) (1.3.3)\n",
            "Requirement already satisfied: cycler>=0.10 in /usr/local/lib/python3.12/dist-packages (from matplotlib) (0.12.1)\n",
            "Requirement already satisfied: fonttools>=4.22.0 in /usr/local/lib/python3.12/dist-packages (from matplotlib) (4.60.1)\n",
            "Requirement already satisfied: kiwisolver>=1.3.1 in /usr/local/lib/python3.12/dist-packages (from matplotlib) (1.4.9)\n",
            "Requirement already satisfied: packaging>=20.0 in /usr/local/lib/python3.12/dist-packages (from matplotlib) (25.0)\n",
            "Requirement already satisfied: pillow>=8 in /usr/local/lib/python3.12/dist-packages (from matplotlib) (11.3.0)\n",
            "Requirement already satisfied: pyparsing>=2.3.1 in /usr/local/lib/python3.12/dist-packages (from matplotlib) (3.2.5)\n",
            "Requirement already satisfied: six>=1.5 in /usr/local/lib/python3.12/dist-packages (from python-dateutil>=2.8.2->pandas) (1.17.0)\n"
          ]
        }
      ],
      "source": [
        "pip install pandas numpy scikit-learn nltk matplotlib seaborn\n"
      ]
    },
    {
      "cell_type": "code",
      "source": [
        "# Day 1 - Setup and Dataset Exploration\n",
        "\n",
        "import pandas as pd\n",
        "import numpy as np\n",
        "import matplotlib.pyplot as plt\n",
        "import seaborn as sns\n",
        "import nltk\n",
        "import warnings\n",
        "warnings.filterwarnings('ignore')\n"
      ],
      "metadata": {
        "id": "8CXhZPXcleHe"
      },
      "execution_count": null,
      "outputs": []
    },
    {
      "cell_type": "code",
      "source": [
        "# Load the fake and true news datasets\n",
        "fake_df = pd.read_csv('Fake.csv')\n",
        "true_df = pd.read_csv('True.csv')\n",
        "\n",
        "print(\"Fake news samples:\", fake_df.shape)\n",
        "print(\"True news samples:\", true_df.shape)\n"
      ],
      "metadata": {
        "colab": {
          "base_uri": "https://localhost:8080/"
        },
        "id": "Xoig7vGxlhB9",
        "outputId": "c75090bc-3941-4049-f6bd-b41feff9e331"
      },
      "execution_count": null,
      "outputs": [
        {
          "output_type": "stream",
          "name": "stdout",
          "text": [
            "Fake news samples: (23481, 4)\n",
            "True news samples: (21417, 4)\n"
          ]
        }
      ]
    },
    {
      "cell_type": "code",
      "source": [
        "# Add a label column to each dataset\n",
        "fake_df['label'] = 0   # 0 → Fake\n",
        "true_df['label'] = 1   # 1 → Real\n",
        "\n",
        "# Combine both datasets\n",
        "news_df = pd.concat([fake_df, true_df], axis=0).reset_index(drop=True)\n",
        "news_df = news_df.sample(frac=1).reset_index(drop=True)  # shuffle\n"
      ],
      "metadata": {
        "id": "VgK5kQOPloQC"
      },
      "execution_count": null,
      "outputs": []
    },
    {
      "cell_type": "code",
      "source": [
        "print(news_df.head())\n",
        "print(news_df['label'].value_counts())\n",
        "\n",
        "# Check for missing values\n",
        "print(news_df.isnull().sum())\n"
      ],
      "metadata": {
        "colab": {
          "base_uri": "https://localhost:8080/"
        },
        "id": "aam32ACgltN6",
        "outputId": "cd9e0567-1da3-41b7-d544-2fb125c421c0"
      },
      "execution_count": null,
      "outputs": [
        {
          "output_type": "stream",
          "name": "stdout",
          "text": [
            "                                               title  \\\n",
            "0  New York, other states challenge Trump over cl...   \n",
            "1  Somalia hands over ONLF rebel leader to Ethiop...   \n",
            "2   Nazis Whine Over Impending Release Of An Anti...   \n",
            "3  CONSERVATIVE PRO-TRUMP Musician Who Performed ...   \n",
            "4  GOP’s Jim Jordan to Lou Dobbs: It’s jail time!...   \n",
            "\n",
            "                                                text       subject  \\\n",
            "0  WASHINGTON (Reuters) - A coalition of 17 U.S. ...  politicsNews   \n",
            "1  ADDIS ABABA (Reuters) - Somali authorities hav...     worldnews   \n",
            "2  With the rise of Donald Trump has also come th...          News   \n",
            "3  Former Pussycat Dolls singer, Kaya Jones, has ...     left-news   \n",
            "4  GOP Rep. Jim Jordan on Lou Dobbs: Listen you c...      politics   \n",
            "\n",
            "               date  label  \n",
            "0    April 5, 2017       1  \n",
            "1  August 31, 2017       1  \n",
            "2   October 8, 2017      0  \n",
            "3      Oct 14, 2017      0  \n",
            "4      Dec 14, 2017      0  \n",
            "label\n",
            "0    23481\n",
            "1    21417\n",
            "Name: count, dtype: int64\n",
            "title      0\n",
            "text       0\n",
            "subject    0\n",
            "date       0\n",
            "label      0\n",
            "dtype: int64\n"
          ]
        }
      ]
    },
    {
      "cell_type": "code",
      "source": [
        "print(news_df.head())\n",
        "print(news_df['label'].value_counts())\n",
        "\n",
        "# Check for missing values\n",
        "print(news_df.isnull().sum())\n"
      ],
      "metadata": {
        "colab": {
          "base_uri": "https://localhost:8080/"
        },
        "id": "0AXx4vbslwny",
        "outputId": "203c6c11-cabd-4bb4-bc20-7a5b2a19807a"
      },
      "execution_count": null,
      "outputs": [
        {
          "output_type": "stream",
          "name": "stdout",
          "text": [
            "                                               title  \\\n",
            "0  New York, other states challenge Trump over cl...   \n",
            "1  Somalia hands over ONLF rebel leader to Ethiop...   \n",
            "2   Nazis Whine Over Impending Release Of An Anti...   \n",
            "3  CONSERVATIVE PRO-TRUMP Musician Who Performed ...   \n",
            "4  GOP’s Jim Jordan to Lou Dobbs: It’s jail time!...   \n",
            "\n",
            "                                                text       subject  \\\n",
            "0  WASHINGTON (Reuters) - A coalition of 17 U.S. ...  politicsNews   \n",
            "1  ADDIS ABABA (Reuters) - Somali authorities hav...     worldnews   \n",
            "2  With the rise of Donald Trump has also come th...          News   \n",
            "3  Former Pussycat Dolls singer, Kaya Jones, has ...     left-news   \n",
            "4  GOP Rep. Jim Jordan on Lou Dobbs: Listen you c...      politics   \n",
            "\n",
            "               date  label  \n",
            "0    April 5, 2017       1  \n",
            "1  August 31, 2017       1  \n",
            "2   October 8, 2017      0  \n",
            "3      Oct 14, 2017      0  \n",
            "4      Dec 14, 2017      0  \n",
            "label\n",
            "0    23481\n",
            "1    21417\n",
            "Name: count, dtype: int64\n",
            "title      0\n",
            "text       0\n",
            "subject    0\n",
            "date       0\n",
            "label      0\n",
            "dtype: int64\n"
          ]
        }
      ]
    },
    {
      "cell_type": "code",
      "source": [
        "sns.countplot(x='label', data=news_df, palette='cool')\n",
        "plt.title(\"Fake (0) vs Real (1) News Distribution\")\n",
        "plt.show()\n"
      ],
      "metadata": {
        "colab": {
          "base_uri": "https://localhost:8080/",
          "height": 472
        },
        "id": "hN6yO4KAlyq1",
        "outputId": "499e6be5-c71b-45da-9118-9cc6bb3803d8"
      },
      "execution_count": null,
      "outputs": [
        {
          "output_type": "display_data",
          "data": {
            "text/plain": [
              "<Figure size 640x480 with 1 Axes>"
            ],
            "image/png": "[encoded data removed]"
          },
          "metadata": {}
        }
      ]
    },
    {
      "cell_type": "markdown",
      "source": [
        "# Day 2\n",
        "🎯 Goal\n",
        "\n",
        "Clean and prepare the text data so that it’s ready for machine learning algorithms.\n",
        "\n",
        "🧠 Concept Recap\n",
        "\n",
        "Machine Learning algorithms understand numbers, not words.\n",
        "So we must:\n",
        "\n",
        "Clean the text → remove noise (punctuations, URLs, stopwords, etc.)\n",
        "\n",
        "Normalize → lowercase everything, lemmatize words (run → running → run)\n",
        "\n",
        "Convert text → numerical features using TF-IDF (Term Frequency - Inverse Document Frequency)\n",
        "\n",
        "TF-IDF helps the model understand which words are important in each news article.\n",
        "-------\n",
        "We first clean the text to remove unwanted symbols and words.\n",
        "\n",
        "Then we lemmatize to get base words (running → run).\n",
        "\n",
        "Then we vectorize using TF-IDF, which converts each article into numbers.\n",
        "\n",
        "Finally, we split the dataset for training and testing."
      ],
      "metadata": {
        "id": "lVmAL6jHmVMW"
      }
    },
    {
      "cell_type": "code",
      "source": [
        "pip install nltk scikit-learn\n"
      ],
      "metadata": {
        "id": "WWAon0jnmRfo"
      },
      "execution_count": null,
      "outputs": []
    },
    {
      "cell_type": "code",
      "source": [
        "import re\n",
        "import string\n",
        "from sklearn.feature_extraction.text import TfidfVectorizer\n",
        "from nltk.corpus import stopwords\n",
        "from nltk.stem import WordNetLemmatizer\n",
        "nltk.download('stopwords')\n",
        "nltk.download('wordnet')\n"
      ],
      "metadata": {
        "id": "oelABq6ZmSsa"
      },
      "execution_count": null,
      "outputs": []
    },
    {
      "cell_type": "markdown",
      "source": [
        "**🧹 Step 1: Clean the Text**\n",
        "\n",
        "We’ll clean the text column of news_df."
      ],
      "metadata": {
        "id": "UgRVaH7YnmOa"
      }
    },
    {
      "cell_type": "code",
      "source": [
        "# Check which column has the news text\n",
        "print(news_df.columns)\n"
      ],
      "metadata": {
        "id": "AqppD4bgnHWZ"
      },
      "execution_count": null,
      "outputs": []
    },
    {
      "cell_type": "code",
      "source": [
        "# Some datasets have separate title and text columns, we can merge them\n",
        "if 'title' in news_df.columns and 'text' in news_df.columns:\n",
        "    news_df['content'] = news_df['title'].astype(str) + \" \" + news_df['text'].astype(str)\n",
        "else:\n",
        "    news_df['content'] = news_df.iloc[:, 0].astype(str)  # if only one text column exists\n"
      ],
      "metadata": {
        "id": "sXTb4CI4nJcC"
      },
      "execution_count": null,
      "outputs": []
    },
    {
      "cell_type": "code",
      "source": [
        "def clean_text(text):\n",
        "    \"\"\"\n",
        "    Function to clean the input text step by step.\n",
        "    \"\"\"\n",
        "    text = text.lower()                                   # lowercase all letters\n",
        "    text = re.sub(r'https?://\\S+|www\\.\\S+', '', text)     # remove URLs\n",
        "    text = re.sub(r'<.*?>', '', text)                     # remove HTML tags\n",
        "    text = re.sub(r'[%s]' % re.escape(string.punctuation), '', text)  # remove punctuation\n",
        "    text = re.sub(r'\\n', ' ', text)                       # remove newlines\n",
        "    text = re.sub(r'\\d+', '', text)                       # remove numbers\n",
        "    text = re.sub(r'\\s+', ' ', text).strip()              # remove extra spaces\n",
        "    return text\n"
      ],
      "metadata": {
        "id": "27nmnP_6nO5g"
      },
      "execution_count": null,
      "outputs": []
    },
    {
      "cell_type": "code",
      "source": [
        "news_df['cleaned_text'] = news_df['content'].apply(clean_text)\n",
        "print(news_df['cleaned_text'].head())\n"
      ],
      "metadata": {
        "id": "zsKX8UQ7nTF5"
      },
      "execution_count": null,
      "outputs": []
    },
    {
      "cell_type": "markdown",
      "source": [
        "**🧠 Step 2: Remove Stopwords & Lemmatize**\n",
        "\n",
        "Stopwords are common words like “the”, “is”, “on” — they don’t add meaning.\n",
        "Lemmatization means converting words to their base form."
      ],
      "metadata": {
        "id": "TXtB2ZUonYfH"
      }
    },
    {
      "cell_type": "code",
      "source": [
        "stop_words = set(stopwords.words('english'))\n",
        "lemmatizer = WordNetLemmatizer()\n",
        "\n",
        "def preprocess_text(text):\n",
        "    words = text.split()\n",
        "    filtered_words = [lemmatizer.lemmatize(word) for word in words if word not in stop_words]\n",
        "    return \" \".join(filtered_words)\n",
        "\n",
        "news_df['processed_text'] = news_df['cleaned_text'].apply(preprocess_text)\n"
      ],
      "metadata": {
        "id": "uhUkaKfenYFH"
      },
      "execution_count": null,
      "outputs": []
    },
    {
      "cell_type": "code",
      "source": [
        "vectorizer = TfidfVectorizer(max_features=5000)\n",
        "X = vectorizer.fit_transform(news_df['processed_text'])\n",
        "y = news_df['label']\n"
      ],
      "metadata": {
        "id": "nhg4IwoFnq6_"
      },
      "execution_count": null,
      "outputs": []
    },
    {
      "cell_type": "code",
      "source": [
        "from sklearn.model_selection import train_test_split\n",
        "\n",
        "X_train, X_test, y_train, y_test = train_test_split(\n",
        "    X, y, test_size=0.2, random_state=42, stratify=y\n",
        ")\n",
        "\n",
        "print(\"Training samples:\", X_train.shape)\n",
        "print(\"Testing samples:\", X_test.shape)\n"
      ],
      "metadata": {
        "id": "iYPfjvo5nuIf"
      },
      "execution_count": null,
      "outputs": []
    },
    {
      "cell_type": "markdown",
      "source": [
        "# 🧭 DAY 3 — Model Training\n",
        "🎯 Goal\n",
        "\n",
        "Train different ML models — compare their performance — and understand how each one works.\n",
        "\n",
        "🧠 Concept Recap\n",
        "\n",
        "We’ll train 3 traditional ML models:\n",
        "\n",
        "1.Logistic Regression → baseline, simple and accurate for text classification.\n",
        "\n",
        "2.Multinomial Naive Bayes → performs well with word-frequency data.\n",
        "\n",
        "3.Random Forest → uses decision trees; good for generalization.\n",
        "\n",
        "4.A small Neural Network (LSTM / Dense NN) — optional for extra learning."
      ],
      "metadata": {
        "id": "kC8rT4jSoWAV"
      }
    },
    {
      "cell_type": "code",
      "source": [
        "from sklearn.linear_model import LogisticRegression\n",
        "from sklearn.naive_bayes import MultinomialNB\n",
        "from sklearn.ensemble import RandomForestClassifier\n",
        "from sklearn.metrics import accuracy_score, precision_score, recall_score, f1_score, confusion_matrix, classification_report\n",
        "import matplotlib.pyplot as plt\n",
        "import seaborn as sns\n"
      ],
      "metadata": {
        "id": "tnFrzkTtoqaX"
      },
      "execution_count": null,
      "outputs": []
    },
    {
      "cell_type": "code",
      "source": [
        "# Logistic Regression Model\n",
        "log_model = LogisticRegression(max_iter=200)\n",
        "log_model.fit(X_train, y_train)\n",
        "\n",
        "y_pred_log = log_model.predict(X_test)\n",
        "\n",
        "# Evaluate\n",
        "acc_log = accuracy_score(y_test, y_pred_log)\n",
        "print(f\"Logistic Regression Accuracy: {acc_log:.4f}\")\n"
      ],
      "metadata": {
        "id": "pz_eef-iosue"
      },
      "execution_count": null,
      "outputs": []
    },
    {
      "cell_type": "markdown",
      "source": [
        "Explanation:\n",
        "\n",
        "max_iter=200 ensures convergence (it might need multiple iterations).\n",
        "\n",
        "Logistic Regression calculates probability that an article is “real” or “fake.”"
      ],
      "metadata": {
        "id": "BSENt5Gkptsg"
      }
    },
    {
      "cell_type": "code",
      "source": [
        "# Multinomial Naive Bayes Model\n",
        "nb_model = MultinomialNB()\n",
        "nb_model.fit(X_train, y_train)\n",
        "\n",
        "y_pred_nb = nb_model.predict(X_test)\n",
        "\n",
        "acc_nb = accuracy_score(y_test, y_pred_nb)\n",
        "print(f\"Naive Bayes Accuracy: {acc_nb:.4f}\")\n"
      ],
      "metadata": {
        "id": "6R3F0xhPou4r"
      },
      "execution_count": null,
      "outputs": []
    },
    {
      "cell_type": "markdown",
      "source": [
        "Explanation:\n",
        "\n",
        "Naive Bayes works on the assumption that each word contributes independently.\n",
        "\n",
        "It’s surprisingly good for text problems since word frequencies are key."
      ],
      "metadata": {
        "id": "DFkf1QMGpkXi"
      }
    },
    {
      "cell_type": "code",
      "source": [
        "# Random Forest Model\n",
        "rf_model = RandomForestClassifier(n_estimators=120, random_state=42)\n",
        "rf_model.fit(X_train, y_train)\n",
        "\n",
        "y_pred_rf = rf_model.predict(X_test)\n",
        "\n",
        "acc_rf = accuracy_score(y_test, y_pred_rf)\n",
        "print(f\"Random Forest Accuracy: {acc_rf:.4f}\")\n"
      ],
      "metadata": {
        "id": "hri5G2IRoxVr"
      },
      "execution_count": null,
      "outputs": []
    },
    {
      "cell_type": "markdown",
      "source": [
        "Explanation:\n",
        "\n",
        "Uses multiple decision trees → majority voting decides the label.\n",
        "\n",
        "Slower than others but can capture more complex relations."
      ],
      "metadata": {
        "id": "wPXLG8tGpfDo"
      }
    },
    {
      "cell_type": "code",
      "source": [
        "model_scores = pd.DataFrame({\n",
        "    'Model': ['Logistic Regression', 'Naive Bayes', 'Random Forest'],\n",
        "    'Accuracy': [acc_log, acc_nb, acc_rf]\n",
        "})\n",
        "print(model_scores)\n",
        "\n",
        "sns.barplot(x='Model', y='Accuracy', data=model_scores, palette='mako')\n",
        "plt.title(\"Model Comparison (Accuracy)\")\n",
        "plt.show()\n"
      ],
      "metadata": {
        "id": "LLY5NyE7ozNm"
      },
      "execution_count": null,
      "outputs": []
    },
    {
      "cell_type": "markdown",
      "source": [
        "Step 6 (Optional): Try a Simple Neural Network (Bonus)\n",
        "\n",
        "We use two hidden layers (128 and 64 neurons).\n",
        "\n",
        "Output layer has 1 neuron → predicts probability (0 = Fake, 1 = Real).\n",
        "\n",
        "Trains using binary_crossentropy (for 2-class problems)."
      ],
      "metadata": {
        "id": "P1FmsyHDpBO-"
      }
    },
    {
      "cell_type": "code",
      "source": [
        "from sklearn.preprocessing import StandardScaler\n",
        "from tensorflow.keras.models import Sequential\n",
        "from tensorflow.keras.layers import Dense, Dropout\n",
        "\n",
        "# Neural Network model\n",
        "nn_model = Sequential([\n",
        "    Dense(128, activation='relu', input_dim=X_train.shape[1]),\n",
        "    Dropout(0.3),\n",
        "    Dense(64, activation='relu'),\n",
        "    Dense(1, activation='sigmoid')\n",
        "])\n",
        "\n",
        "nn_model.compile(optimizer='adam', loss='binary_crossentropy', metrics=['accuracy'])\n",
        "nn_model.fit(X_train.toarray(), y_train, epochs=3, batch_size=64, validation_split=0.1)\n"
      ],
      "metadata": {
        "id": "SpARF3xWo3bW"
      },
      "execution_count": null,
      "outputs": []
    },
    {
      "cell_type": "markdown",
      "source": [
        "Logistic Regression: checks linear relation between words and labels.\n",
        "\n",
        "Naive Bayes: assumes words are independent but powerful for text.\n",
        "\n",
        "Random Forest: ensemble of trees → strong, but slower.\n",
        "\n",
        "Neural Net: learns complex non-linear patterns (bonus).\n",
        "\n",
        "Each model learns from the TF-IDF vectors (numeric word importance features)."
      ],
      "metadata": {
        "id": "9mkU0sPso-tg"
      }
    },
    {
      "cell_type": "markdown",
      "source": [
        "# 🧭 DAY 4 — Model Evaluation, Visualization & Saving\n",
        "🎯 Goal\n",
        "\n",
        "Evaluate all models (accuracy, precision, recall, F1)\n",
        "\n",
        "Visualize confusion matrix & ROC curve\n",
        "\n",
        "Choose the best model\n",
        "\n",
        "Save it using pickle or joblib\n",
        "\n",
        "🧠 Concept Recap\n",
        "\n",
        "After training, we test how well our model performs using:\n",
        "\n",
        "Accuracy → overall correctness\n",
        "\n",
        "Precision → how many predicted fake were actually fake\n",
        "\n",
        "Recall → how many actual fake were correctly detected\n",
        "\n",
        "F1-score → harmonic mean of precision & recall\n",
        "\n",
        "Visualization (confusion matrix, ROC) helps understand model strengths & weaknesses."
      ],
      "metadata": {
        "id": "wHWua69hpz-f"
      }
    },
    {
      "cell_type": "code",
      "source": [
        "from sklearn.metrics import roc_auc_score, roc_curve\n",
        "\n",
        "def evaluate_model(y_true, y_pred, model_name):\n",
        "    acc = accuracy_score(y_true, y_pred)\n",
        "    prec = precision_score(y_true, y_pred)\n",
        "    rec = recall_score(y_true, y_pred)\n",
        "    f1 = f1_score(y_true, y_pred)\n",
        "\n",
        "    print(f\"\\n📊 Performance of {model_name}\")\n",
        "    print(f\"Accuracy : {acc:.4f}\")\n",
        "    print(f\"Precision: {prec:.4f}\")\n",
        "    print(f\"Recall   : {rec:.4f}\")\n",
        "    print(f\"F1-Score : {f1:.4f}\")\n",
        "\n",
        "    # Confusion Matrix\n",
        "    cm = confusion_matrix(y_true, y_pred)\n",
        "    plt.figure(figsize=(5,4))\n",
        "    sns.heatmap(cm, annot=True, fmt='d', cmap='Purples')\n",
        "    plt.title(f\"{model_name} - Confusion Matrix\")\n",
        "    plt.xlabel(\"Predicted\")\n",
        "    plt.ylabel(\"Actual\")\n",
        "    plt.show()\n",
        "\n",
        "    return acc, prec, rec, f1\n"
      ],
      "metadata": {
        "id": "XK9bR_peqUr_"
      },
      "execution_count": null,
      "outputs": []
    },
    {
      "cell_type": "code",
      "source": [
        "log_metrics = evaluate_model(y_test, y_pred_log, \"Logistic Regression\")\n",
        "nb_metrics = evaluate_model(y_test, y_pred_nb, \"Naive Bayes\")\n",
        "rf_metrics = evaluate_model(y_test, y_pred_rf, \"Random Forest\")\n"
      ],
      "metadata": {
        "id": "muJna4H4qaiq"
      },
      "execution_count": null,
      "outputs": []
    },
    {
      "cell_type": "code",
      "source": [
        "# Predict probabilities\n",
        "y_prob_log = log_model.predict_proba(X_test)[:,1]\n",
        "y_prob_nb = nb_model.predict_proba(X_test)[:,1]\n",
        "y_prob_rf = rf_model.predict_proba(X_test)[:,1]\n",
        "\n",
        "fpr_log, tpr_log, _ = roc_curve(y_test, y_prob_log)\n",
        "fpr_nb, tpr_nb, _ = roc_curve(y_test, y_prob_nb)\n",
        "fpr_rf, tpr_rf, _ = roc_curve(y_test, y_prob_rf)\n",
        "\n",
        "plt.figure(figsize=(7,5))\n",
        "plt.plot(fpr_log, tpr_log, label='Logistic Regression')\n",
        "plt.plot(fpr_nb, tpr_nb, label='Naive Bayes')\n",
        "plt.plot(fpr_rf, tpr_rf, label='Random Forest')\n",
        "plt.plot([0,1], [0,1], 'k--')\n",
        "plt.title(\"ROC Curve Comparison\")\n",
        "plt.xlabel(\"False Positive Rate\")\n",
        "plt.ylabel(\"True Positive Rate\")\n",
        "plt.legend()\n",
        "plt.show()\n"
      ],
      "metadata": {
        "id": "29WZkoG3qcse"
      },
      "execution_count": null,
      "outputs": []
    },
    {
      "cell_type": "code",
      "source": [
        "comparison = pd.DataFrame({\n",
        "    'Model': ['Logistic Regression', 'Naive Bayes', 'Random Forest'],\n",
        "    'Accuracy': [log_metrics[0], nb_metrics[0], rf_metrics[0]],\n",
        "    'Precision': [log_metrics[1], nb_metrics[1], rf_metrics[1]],\n",
        "    'Recall': [log_metrics[2], nb_metrics[2], rf_metrics[2]],\n",
        "    'F1-Score': [log_metrics[3], nb_metrics[3], rf_metrics[3]]\n",
        "})\n",
        "\n",
        "print(\"\\n🔍 Model Performance Comparison:\")\n",
        "print(comparison.sort_values(by='Accuracy', ascending=False))\n"
      ],
      "metadata": {
        "id": "8446dRhgqfAe"
      },
      "execution_count": null,
      "outputs": []
    },
    {
      "cell_type": "code",
      "source": [
        "import pickle\n",
        "\n",
        "with open('best_model.pkl', 'wb') as file:\n",
        "    pickle.dump(log_model, file)\n",
        "\n",
        "print(\"✅ Best model saved successfully as 'best_model.pkl'\")\n"
      ],
      "metadata": {
        "id": "fkJMax6qqhwW"
      },
      "execution_count": null,
      "outputs": []
    },
    {
      "cell_type": "markdown",
      "source": [
        "We tested each model using accuracy, precision, recall, and F1-score.\n",
        "\n",
        "Then visualized confusion matrix → shows where the model made mistakes.\n",
        "\n",
        "ROC curve shows how confidently the model separates fake vs real.\n",
        "\n",
        "Finally, we saved the best model to use later in an app (Day 5)."
      ],
      "metadata": {
        "id": "_vYz1Nz1sYAM"
      }
    },
    {
      "cell_type": "markdown",
      "source": [
        "🧭 DAY 5 — Streamlit App + Report + Resume\n",
        "🎯 Goal\n",
        "\n",
        "Create a user interface for your model (Streamlit)\n",
        "\n",
        "Run the app locally\n",
        "\n",
        "Write a short report and resume-ready project summary"
      ],
      "metadata": {
        "id": "_G1ojTsgsjM_"
      }
    },
    {
      "cell_type": "code",
      "source": [
        "import pickle\n",
        "\n",
        "# Save both model and vectorizer\n",
        "with open('best_model.pkl', 'wb') as f:\n",
        "    pickle.dump(log_model, f)\n",
        "\n",
        "with open('vectorizer.pkl', 'wb') as f:\n",
        "    pickle.dump(vectorizer, f)\n",
        "\n",
        "print(\"✅ Model and vectorizer saved successfully.\")\n"
      ],
      "metadata": {
        "id": "CK9XPd2usazL"
      },
      "execution_count": null,
      "outputs": []
    }
  ]
}